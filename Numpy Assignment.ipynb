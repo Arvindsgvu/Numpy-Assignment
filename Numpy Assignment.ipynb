{
 "cells": [
  {
   "cell_type": "code",
   "execution_count": 1,
   "metadata": {},
   "outputs": [],
   "source": [
    "import numpy as np"
   ]
  },
  {
   "cell_type": "markdown",
   "metadata": {},
   "source": [
    "Write a function so that the columns of the output matrix are powers of the input\n",
    "vector.\n",
    "The order of the powers is determined by the increasing boolean argument. Specifically, when\n",
    "increasing is False, the i-th output column is the input vector raised element-wise to the power\n",
    "of N - i - 1.\n",
    "\n",
    "HINT: Such a matrix with a geometric progression in each row is named for Alexandre-\n",
    "Theophile Vandermonde."
   ]
  },
  {
   "cell_type": "code",
   "execution_count": 2,
   "metadata": {},
   "outputs": [
    {
     "name": "stdout",
     "output_type": "stream",
     "text": [
      "------------OUTPUT-------------\n",
      "\n",
      "The input array is: [1 2 3 4 5] \n",
      "\n",
      "Number of columns in output matrix should be: 5 \n",
      "\n",
      "Alexandre-Theophile Vandermonde matrix of the input array in decreasing order of powers:\n",
      "\n",
      " [[  1   1   1   1   1]\n",
      " [ 16   8   4   2   1]\n",
      " [ 81  27   9   3   1]\n",
      " [256  64  16   4   1]\n",
      " [625 125  25   5   1]] \n",
      "\n",
      "Alexandre-Theophile Vandermonde matrix of the input array in increasing order of powers:\n",
      "\n",
      " [[  1   1   1   1   1]\n",
      " [  1   2   4   8  16]\n",
      " [  1   3   9  27  81]\n",
      " [  1   4  16  64 256]\n",
      " [  1   5  25 125 625]] \n",
      "\n"
     ]
    }
   ],
   "source": [
    "def ale_vander_matrix(inpvector, n, increasing=False):\n",
    "    \n",
    "    if not increasing:\n",
    "        out_matx = np.array([x**(n-1-i) for x in inpvector for i in range(n)]).reshape(inpvector.size,n)\n",
    "    elif increasing:\n",
    "        out_matx = np.array([x**i for x in inpvector for i in range(n)]).reshape(inpvector.size,n)\n",
    "    \n",
    "    return out_matx\n",
    "\n",
    "print(\"------------OUTPUT-------------\\n\")\n",
    "\n",
    "inputvector = np.array([1,2,3,4,5])\n",
    "no_col_opmat = 5\n",
    "out_matx_dec_order = ale_vander_matrix(inputvector,no_col_opmat,False)\n",
    "out_matx_inc_order = ale_vander_matrix(inputvector,no_col_opmat,True)\n",
    "\n",
    "print(\"The input array is:\",inputvector,\"\\n\")\n",
    "print(\"Number of columns in output matrix should be:\",no_col_opmat,\"\\n\")\n",
    "print(\"Alexandre-Theophile Vandermonde matrix of the input array in decreasing order of powers:\\n\\n\",out_matx_dec_order,\"\\n\")\n",
    "print(\"Alexandre-Theophile Vandermonde matrix of the input array in increasing order of powers:\\n\\n\",out_matx_inc_order,\"\\n\")"
   ]
  },
  {
   "cell_type": "code",
   "execution_count": 3,
   "metadata": {},
   "outputs": [
    {
     "data": {
      "text/plain": [
       "array([[  1,   1,   1,   1],\n",
       "       [ 27,   9,   3,   1],\n",
       "       [125,  25,   5,   1],\n",
       "       [343,  49,   7,   1],\n",
       "       [729,  81,   9,   1]])"
      ]
     },
     "execution_count": 3,
     "metadata": {},
     "output_type": "execute_result"
    }
   ],
   "source": [
    "ale_vander_matrix(np.array([1,3,5,7,9]),4,False)"
   ]
  },
  {
   "cell_type": "code",
   "execution_count": 4,
   "metadata": {},
   "outputs": [
    {
     "data": {
      "text/plain": [
       "array([[  1,   1,   1,   1],\n",
       "       [  1,   3,   9,  27],\n",
       "       [  1,   5,  25, 125],\n",
       "       [  1,   7,  49, 343],\n",
       "       [  1,   9,  81, 729]])"
      ]
     },
     "execution_count": 4,
     "metadata": {},
     "output_type": "execute_result"
    }
   ],
   "source": [
    "ale_vander_matrix(np.array([1,3,5,7,9]),4,True)"
   ]
  },
  {
   "cell_type": "markdown",
   "metadata": {},
   "source": [
    "Problem Statement 2"
   ]
  },
  {
   "cell_type": "markdown",
   "metadata": {},
   "source": [
    "Write a function to find moving average in an array over a window:\n",
    "Test it over [3, 5, 7, 2, 8, 10, 11, 65, 72, 81, 99, 100, 150] and window of 3."
   ]
  },
  {
   "cell_type": "code",
   "execution_count": 5,
   "metadata": {},
   "outputs": [
    {
     "name": "stdout",
     "output_type": "stream",
     "text": [
      "The input sequence is = [  3   5   7   2   8  10  11  65  72  81  99 100 150] \n",
      "\n",
      "The moving average of the sequence with the rolling window size 3 is =\n",
      " [  5.           4.66666667   5.66666667   6.66666667   9.66666667\n",
      "  28.66666667  49.33333333  72.66666667  84.          93.33333333\n",
      " 116.33333333] \n",
      "\n",
      "The moving average sequence should have 11 values.\n",
      "\n",
      "The moving average sequence has 11 values.\n"
     ]
    }
   ],
   "source": [
    "import numpy as np\n",
    "\n",
    "def moving_average(input_array, k=3) :\n",
    "    input_array_shape = input_array.shape[0]\n",
    "    \n",
    "    #Create a vector of zeroes with the shape as n-k+1\n",
    "    \n",
    "    out_array_moving_avg = np.zeros(input_array_shape - k + 1)\n",
    "    \n",
    "    # Iterate over the input array. While doing so, for every element, get the next k elements through slicing, \n",
    "    # computer their mean and add to the output array.\n",
    "    \n",
    "    for i in range(k, input_array_shape + 1):\n",
    "        out_array_moving_avg[i-k] = input_array[i-k:i].mean()\n",
    "    \n",
    "    return out_array_moving_avg   \n",
    "\n",
    "\n",
    "a = np.array([3, 5, 7, 2, 8, 10, 11, 65, 72, 81, 99, 100, 150])\n",
    "win_size = 3\n",
    "moving_average_arr = moving_average(a, win_size)\n",
    "\n",
    "print(\"The input sequence is =\", a, \"\\n\")\n",
    "print(\"The moving average of the sequence with the rolling window size\", win_size, \"is =\\n\", moving_average_arr, \"\\n\")\n",
    "print(\"The moving average sequence should have\", a.shape[0] - win_size + 1, \"values.\\n\")\n",
    "print(\"The moving average sequence has\", moving_average_arr.shape[0], \"values.\")"
   ]
  },
  {
   "cell_type": "code",
   "execution_count": null,
   "metadata": {},
   "outputs": [],
   "source": []
  }
 ],
 "metadata": {
  "kernelspec": {
   "display_name": "Python 3",
   "language": "python",
   "name": "python3"
  },
  "language_info": {
   "codemirror_mode": {
    "name": "ipython",
    "version": 3
   },
   "file_extension": ".py",
   "mimetype": "text/x-python",
   "name": "python",
   "nbconvert_exporter": "python",
   "pygments_lexer": "ipython3",
   "version": "3.6.9"
  }
 },
 "nbformat": 4,
 "nbformat_minor": 2
}
